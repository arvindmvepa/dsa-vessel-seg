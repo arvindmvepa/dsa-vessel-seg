{
 "cells": [
  {
   "cell_type": "code",
   "execution_count": null,
   "metadata": {},
   "outputs": [],
   "source": [
    "import sys\n",
    "sys.path.append(r'./segmentation_models.pytorch')"
   ]
  },
  {
   "cell_type": "code",
   "execution_count": null,
   "metadata": {},
   "outputs": [],
   "source": [
    "from segmentation_models_pytorch.run import run_test\n",
    "import os\n",
    "import json"
   ]
  },
  {
   "cell_type": "code",
   "execution_count": null,
   "metadata": {},
   "outputs": [],
   "source": [
    "params = {}\n",
    "params['bs'] = 1\n",
    "params['test_metrics'] =[[\"accuracy\", {\"threshold\": 0.5}],\n",
    "                         [\"fscore\", {\"threshold\": 0.5}],\n",
    "                         [\"iou_score\", {\"threshold\": 0.5}],\n",
    "                         [\"recall\", {\"threshold\": 0.5}],\n",
    "                         [\"precision\", {\"threshold\": 0.5}],\n",
    "                         [\"auc_roc\", {}], [\"ap\", {}],\n",
    "                         \"inf_time\"]\n",
    "params['data_dir'] = r'C:\\Users\\avepa\\Documents\\dsa-vessel-seg\\data\\dsa\\test\\images'\n",
    "params['seg_dir'] =  r'C:\\Users\\avepa\\Documents\\dsa-vessel-seg\\data\\dsa\\test\\gt'\n",
    "params['save_dir'] = r'C:\\Users\\avepa\\Documents\\dsa-vessel-seg\\test_exp\\0'"
   ]
  },
  {
   "cell_type": "code",
   "execution_count": null,
   "metadata": {},
   "outputs": [],
   "source": [
    "model = r'C:\\Users\\avepa\\Documents\\dsa-vessel-seg\\test_exp\\0\\best_model_ap.pth'"
   ]
  },
  {
   "cell_type": "code",
   "execution_count": null,
   "metadata": {
    "scrolled": false
   },
   "outputs": [],
   "source": [
    "run_test(model, **params)"
   ]
  }
 ],
 "metadata": {
  "kernelspec": {
   "display_name": "Python 3 (ipykernel)",
   "language": "python",
   "name": "python3"
  },
  "language_info": {
   "codemirror_mode": {
    "name": "ipython",
    "version": 3
   },
   "file_extension": ".py",
   "mimetype": "text/x-python",
   "name": "python",
   "nbconvert_exporter": "python",
   "pygments_lexer": "ipython3",
   "version": "3.7.9"
  }
 },
 "nbformat": 4,
 "nbformat_minor": 2
}
