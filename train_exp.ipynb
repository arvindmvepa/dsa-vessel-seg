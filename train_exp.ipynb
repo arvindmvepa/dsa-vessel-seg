{
 "cells": [
  {
   "cell_type": "code",
   "execution_count": null,
   "metadata": {},
   "outputs": [],
   "source": [
    "import sys\n",
    "sys.path.append(r'./segmentation_models.pytorch')"
   ]
  },
  {
   "cell_type": "code",
   "execution_count": null,
   "metadata": {},
   "outputs": [],
   "source": [
    "from segmentation_models_pytorch.run import run_exp"
   ]
  },
  {
   "cell_type": "code",
   "execution_count": null,
   "metadata": {},
   "outputs": [],
   "source": [
    "params = {\"encoder\": ['densenet169'],\n",
    "          \"decoder\": ['fpn'],\n",
    "          \"fold\": [0],\n",
    "          \"train_metrics\": [[[\"iou_score\", {\"threshold\": 0.5}], \n",
    "                             [\"fscore\", {\"threshold\": 0.5}], \n",
    "                             [\"accuracy\", {\"threshold\": 0.5}]]\n",
    "                           ],\n",
    "          \"val_metrics\": [[[\"iou_score\", {\"threshold\": 0.5}],\n",
    "                           [\"fscore\", {\"threshold\": 0.5}],\n",
    "                           [\"accuracy\", {\"threshold\": 0.5}],\n",
    "                           [\"recall\", {\"threshold\": 0.5}],\n",
    "                           [\"precision\", {\"threshold\": 0.9}],\n",
    "                           [\"auc_roc\", {}], [\"ap\", {}]]\n",
    "                         ],\n",
    "          \"best_metrics\": [[['dice_loss', 1.0, [], False],\n",
    "                            ['bce_with_logits_loss', 10000, ['dice_loss', 'bce_with_logits_loss',\n",
    "                                                            'accuracy', 'iou_score', 'fscore'],  False],\n",
    "                            ['auc_roc', 0.0, [], True],\n",
    "                            [\"ap\", 0.0, [], True],\n",
    "                            ['accuracy_0.5', 0.0, [], True],\n",
    "                            ['iou_score_0.5', 0.0, [], True], \n",
    "                            ['fscore_0.5', 0.0, [], True]]],\n",
    "          \"last_metrics\": [['dice_loss', 'bce_with_logits_loss', 'ap', 'auc_roc', 'accuracy','iou_score', 'fscore']],\n",
    "          \"pos_scale\": [1.0],\n",
    "          \"num_epochs\": [300],\n",
    "          \"val_freq\": [5],\n",
    "          \"optimizer\": [['adam', {\"lr\": .0001}]],\n",
    "          \"save_net\": [True],\n",
    "          \"n_splits\": [5],\n",
    "          \"train_sample_seed\": [1],\n",
    "          \"train_sample_prop\": [1],\n",
    "          \"data_dir\": [r'C:\\Users\\avepa\\Documents\\dsa-vessel-seg\\data\\dsa\\train\\images'],\n",
    "          \"seg_dir\": [r'C:\\Users\\avepa\\Documents\\dsa-vessel-seg\\data\\dsa\\train\\gt'],\n",
    "          \"bs\": [1]}"
   ]
  },
  {
   "cell_type": "code",
   "execution_count": null,
   "metadata": {},
   "outputs": [],
   "source": [
    "exp_dir=r'C:\\Users\\avepa\\Documents\\dsa-vessel-seg\\test_exp'"
   ]
  },
  {
   "cell_type": "code",
   "execution_count": null,
   "metadata": {
    "scrolled": true
   },
   "outputs": [],
   "source": [
    "run_exp(exp_dir=exp_dir, **params)"
   ]
  }
 ],
 "metadata": {
  "kernelspec": {
   "display_name": "Python 3 (ipykernel)",
   "language": "python",
   "name": "python3"
  },
  "language_info": {
   "codemirror_mode": {
    "name": "ipython",
    "version": 3
   },
   "file_extension": ".py",
   "mimetype": "text/x-python",
   "name": "python",
   "nbconvert_exporter": "python",
   "pygments_lexer": "ipython3",
   "version": "3.7.9"
  }
 },
 "nbformat": 4,
 "nbformat_minor": 4
}
